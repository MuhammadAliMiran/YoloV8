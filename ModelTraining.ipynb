{
 "cells": [
  {
   "cell_type": "code",
   "execution_count": 1,
   "metadata": {},
   "outputs": [],
   "source": [
    "from ultralytics import YOLO"
   ]
  },
  {
   "cell_type": "code",
   "execution_count": 5,
   "metadata": {},
   "outputs": [
    {
     "name": "stdout",
     "output_type": "stream",
     "text": [
      "loading Roboflow workspace...\n",
      "loading Roboflow project...\n",
      "Dependency ultralytics==8.0.196 is required but found version=8.2.1, to fix: `pip install ultralytics==8.0.196`\n"
     ]
    },
    {
     "name": "stderr",
     "output_type": "stream",
     "text": [
      "Downloading Dataset Version Zip in Gun-Detection-1 to yolov8:: 100%|██████████| 6512/6512 [00:03<00:00, 2027.46it/s]"
     ]
    },
    {
     "name": "stdout",
     "output_type": "stream",
     "text": [
      "\n"
     ]
    },
    {
     "name": "stderr",
     "output_type": "stream",
     "text": [
      "\n",
      "Extracting Dataset Version Zip to Gun-Detection-1 in yolov8:: 100%|██████████| 611/611 [00:00<00:00, 1146.21it/s]\n"
     ]
    }
   ],
   "source": [
    "from roboflow import Roboflow\n",
    "rf = Roboflow(api_key=\"FiAAPFyuQa9tYrhIdkFW\")\n",
    "project = rf.workspace(\"vaibhav-rokde\").project(\"gun-detection-pjqx5\")\n",
    "version = project.version(1)\n",
    "dataset = version.download(\"yolov8\")"
   ]
  },
  {
   "cell_type": "code",
   "execution_count": 8,
   "metadata": {},
   "outputs": [
    {
     "data": {
      "text/plain": [
       "'/Users/mac/Documents/Projects/YoloV8'"
      ]
     },
     "execution_count": 8,
     "metadata": {},
     "output_type": "execute_result"
    }
   ],
   "source": [
    "%pwd"
   ]
  },
  {
   "cell_type": "code",
   "execution_count": 15,
   "metadata": {},
   "outputs": [
    {
     "name": "stdout",
     "output_type": "stream",
     "text": [
      "Ultralytics YOLOv8.2.1 🚀 Python-3.11.8 torch-2.2.2 CPU (Intel Core(TM) i7-8850H 2.60GHz)\n",
      "\u001b[34m\u001b[1mengine/trainer: \u001b[0mtask=detect, mode=train, model=yolov8s.pt, data=/Users/mac/Documents/Projects/YoloV8/Gun-Detection-1/data.yaml, epochs=1, time=None, patience=100, batch=16, imgsz=640, save=True, save_period=-1, cache=False, device=None, workers=8, project=None, name=train11, exist_ok=False, pretrained=True, optimizer=auto, verbose=True, seed=0, deterministic=True, single_cls=False, rect=False, cos_lr=False, close_mosaic=10, resume=False, amp=True, fraction=1.0, profile=False, freeze=None, multi_scale=False, overlap_mask=True, mask_ratio=4, dropout=0.0, val=True, split=val, save_json=False, save_hybrid=False, conf=None, iou=0.7, max_det=300, half=False, dnn=False, plots=True, source=None, vid_stride=1, stream_buffer=False, visualize=False, augment=False, agnostic_nms=False, classes=None, retina_masks=False, embed=None, show=False, save_frames=False, save_txt=False, save_conf=False, save_crop=False, show_labels=True, show_conf=True, show_boxes=True, line_width=None, format=torchscript, keras=False, optimize=False, int8=False, dynamic=False, simplify=False, opset=None, workspace=4, nms=False, lr0=0.01, lrf=0.01, momentum=0.937, weight_decay=0.0005, warmup_epochs=3.0, warmup_momentum=0.8, warmup_bias_lr=0.1, box=7.5, cls=0.5, dfl=1.5, pose=12.0, kobj=1.0, label_smoothing=0.0, nbs=64, hsv_h=0.015, hsv_s=0.7, hsv_v=0.4, degrees=0.0, translate=0.1, scale=0.5, shear=0.0, perspective=0.0, flipud=0.0, fliplr=0.5, bgr=0.0, mosaic=1.0, mixup=0.0, copy_paste=0.0, auto_augment=randaugment, erasing=0.4, crop_fraction=1.0, cfg=None, tracker=botsort.yaml, save_dir=runs/detect/train11\n",
      "Overriding model.yaml nc=80 with nc=1\n",
      "\n",
      "                   from  n    params  module                                       arguments                     \n",
      "  0                  -1  1       928  ultralytics.nn.modules.conv.Conv             [3, 32, 3, 2]                 \n",
      "  1                  -1  1     18560  ultralytics.nn.modules.conv.Conv             [32, 64, 3, 2]                \n",
      "  2                  -1  1     29056  ultralytics.nn.modules.block.C2f             [64, 64, 1, True]             \n",
      "  3                  -1  1     73984  ultralytics.nn.modules.conv.Conv             [64, 128, 3, 2]               \n",
      "  4                  -1  2    197632  ultralytics.nn.modules.block.C2f             [128, 128, 2, True]           \n",
      "  5                  -1  1    295424  ultralytics.nn.modules.conv.Conv             [128, 256, 3, 2]              \n",
      "  6                  -1  2    788480  ultralytics.nn.modules.block.C2f             [256, 256, 2, True]           \n",
      "  7                  -1  1   1180672  ultralytics.nn.modules.conv.Conv             [256, 512, 3, 2]              \n",
      "  8                  -1  1   1838080  ultralytics.nn.modules.block.C2f             [512, 512, 1, True]           \n",
      "  9                  -1  1    656896  ultralytics.nn.modules.block.SPPF            [512, 512, 5]                 \n",
      " 10                  -1  1         0  torch.nn.modules.upsampling.Upsample         [None, 2, 'nearest']          \n",
      " 11             [-1, 6]  1         0  ultralytics.nn.modules.conv.Concat           [1]                           \n",
      " 12                  -1  1    591360  ultralytics.nn.modules.block.C2f             [768, 256, 1]                 \n",
      " 13                  -1  1         0  torch.nn.modules.upsampling.Upsample         [None, 2, 'nearest']          \n",
      " 14             [-1, 4]  1         0  ultralytics.nn.modules.conv.Concat           [1]                           \n",
      " 15                  -1  1    148224  ultralytics.nn.modules.block.C2f             [384, 128, 1]                 \n",
      " 16                  -1  1    147712  ultralytics.nn.modules.conv.Conv             [128, 128, 3, 2]              \n",
      " 17            [-1, 12]  1         0  ultralytics.nn.modules.conv.Concat           [1]                           \n",
      " 18                  -1  1    493056  ultralytics.nn.modules.block.C2f             [384, 256, 1]                 \n",
      " 19                  -1  1    590336  ultralytics.nn.modules.conv.Conv             [256, 256, 3, 2]              \n",
      " 20             [-1, 9]  1         0  ultralytics.nn.modules.conv.Concat           [1]                           \n",
      " 21                  -1  1   1969152  ultralytics.nn.modules.block.C2f             [768, 512, 1]                 \n",
      " 22        [15, 18, 21]  1   2116435  ultralytics.nn.modules.head.Detect           [1, [128, 256, 512]]          \n",
      "Model summary: 225 layers, 11135987 parameters, 11135971 gradients, 28.6 GFLOPs\n",
      "\n",
      "Transferred 349/355 items from pretrained weights\n",
      "Freezing layer 'model.22.dfl.conv.weight'\n",
      "\u001b[34m\u001b[1mtrain: \u001b[0mScanning /Users/mac/Documents/Projects/YoloV8/Gun-Detection-1/train/label\u001b[0m\n",
      "\u001b[34m\u001b[1mval: \u001b[0mScanning /Users/mac/Documents/Projects/YoloV8/Gun-Detection-1/test/labels.c\u001b[0m\n",
      "Plotting labels to runs/detect/train11/labels.jpg... \n",
      "\u001b[34m\u001b[1moptimizer:\u001b[0m 'optimizer=auto' found, ignoring 'lr0=0.01' and 'momentum=0.937' and determining best 'optimizer', 'lr0' and 'momentum' automatically... \n",
      "\u001b[34m\u001b[1moptimizer:\u001b[0m AdamW(lr=0.002, momentum=0.9) with parameter groups 57 weight(decay=0.0), 64 weight(decay=0.0005), 63 bias(decay=0.0)\n",
      "Image sizes 640 train, 640 val\n",
      "Using 0 dataloader workers\n",
      "Logging results to \u001b[1mruns/detect/train11\u001b[0m\n",
      "Starting training for 1 epochs...\n",
      "\n",
      "      Epoch    GPU_mem   box_loss   cls_loss   dfl_loss  Instances       Size\n",
      "        1/1         0G       1.89      3.699      1.954          2        640: 1\n",
      "                 Class     Images  Instances      Box(P          R      mAP50  m\n",
      "                   all         91        123      0.394       0.27      0.221     0.0812\n",
      "\n",
      "1 epochs completed in 0.110 hours.\n",
      "Optimizer stripped from runs/detect/train11/weights/last.pt, 22.5MB\n",
      "Optimizer stripped from runs/detect/train11/weights/best.pt, 22.5MB\n",
      "\n",
      "Validating runs/detect/train11/weights/best.pt...\n",
      "Ultralytics YOLOv8.2.1 🚀 Python-3.11.8 torch-2.2.2 CPU (Intel Core(TM) i7-8850H 2.60GHz)\n",
      "Model summary (fused): 168 layers, 11125971 parameters, 0 gradients, 28.4 GFLOPs\n",
      "                 Class     Images  Instances      Box(P          R      mAP50  m\n",
      "                   all         91        123      0.393      0.263      0.222     0.0798\n",
      "Speed: 4.7ms preprocess, 304.6ms inference, 0.0ms loss, 13.2ms postprocess per image\n",
      "Results saved to \u001b[1mruns/detect/train11\u001b[0m\n",
      "💡 Learn more at https://docs.ultralytics.com/modes/train\n"
     ]
    }
   ],
   "source": [
    "!yolo task=detect \\\n",
    "mode=train \\\n",
    "model=yolov8s.pt \\\n",
    "data={dataset.location}/data.yaml \\\n",
    "epochs=1 \\\n",
    "imgsz=640"
   ]
  },
  {
   "cell_type": "code",
   "execution_count": 20,
   "metadata": {},
   "outputs": [
    {
     "name": "stdout",
     "output_type": "stream",
     "text": [
      "Ultralytics YOLOv8.2.1 🚀 Python-3.11.8 torch-2.2.2 CPU (Intel Core(TM) i7-8850H 2.60GHz)\n",
      "Model summary (fused): 168 layers, 11125971 parameters, 0 gradients, 28.4 GFLOPs\n",
      "\u001b[34m\u001b[1mval: \u001b[0mScanning /Users/mac/Documents/Projects/YoloV8/Gun-Detection-1/test/labels.c\u001b[0m\n",
      "                 Class     Images  Instances      Box(P          R      mAP50  m\n",
      "                   all         91        123      0.393      0.263      0.222     0.0798\n",
      "Speed: 4.9ms preprocess, 307.4ms inference, 0.0ms loss, 30.5ms postprocess per image\n",
      "Results saved to \u001b[1mruns/detect/val\u001b[0m\n",
      "💡 Learn more at https://docs.ultralytics.com/modes/val\n"
     ]
    }
   ],
   "source": [
    "!yolo task=detect \\\n",
    "mode=val \\\n",
    "model=/Users/mac/Documents/Projects/YoloV8/runs/detect/train11/weights/best.pt \\\n",
    "data={dataset.location}/data.yaml"
   ]
  },
  {
   "cell_type": "code",
   "execution_count": 21,
   "metadata": {},
   "outputs": [
    {
     "name": "stdout",
     "output_type": "stream",
     "text": [
      "Ultralytics YOLOv8.2.1 🚀 Python-3.11.8 torch-2.2.2 CPU (Intel Core(TM) i7-8850H 2.60GHz)\n",
      "Model summary (fused): 168 layers, 11125971 parameters, 0 gradients, 28.4 GFLOPs\n",
      "\n",
      "image 1/91 /Users/mac/Documents/Projects/YoloV8/Gun-Detection-1/test/images/102_jpeg.rf.735c70447fde967ae391f09d6ae788d7.jpg: 640x640 4 guns, 332.2ms\n",
      "image 2/91 /Users/mac/Documents/Projects/YoloV8/Gun-Detection-1/test/images/104_jpeg.rf.5a049ae0ce2c42b6e2c3b254f466c14f.jpg: 640x640 4 guns, 316.5ms\n",
      "image 3/91 /Users/mac/Documents/Projects/YoloV8/Gun-Detection-1/test/images/105_jpeg.rf.48db2598e7b1770c62750e41d6ea328b.jpg: 640x640 (no detections), 336.8ms\n",
      "image 4/91 /Users/mac/Documents/Projects/YoloV8/Gun-Detection-1/test/images/107_jpeg.rf.7f2e12a7bc0b10c3e7969df39a687ad2.jpg: 640x640 1 gun, 341.6ms\n",
      "image 5/91 /Users/mac/Documents/Projects/YoloV8/Gun-Detection-1/test/images/109_jpeg.rf.36a5d4fa90d56108220983fc76b8a583.jpg: 640x640 8 guns, 302.3ms\n",
      "image 6/91 /Users/mac/Documents/Projects/YoloV8/Gun-Detection-1/test/images/10_jpeg.rf.cf926adad47b456b38f124a3994056fd.jpg: 640x640 2 guns, 407.2ms\n",
      "image 7/91 /Users/mac/Documents/Projects/YoloV8/Gun-Detection-1/test/images/119_jpeg.rf.7957571832ccc520cfbcd5b42b3df04c.jpg: 640x640 4 guns, 309.0ms\n",
      "image 8/91 /Users/mac/Documents/Projects/YoloV8/Gun-Detection-1/test/images/11_jpeg.rf.bcc7691e6aaa4b120ff1c86767c88aca.jpg: 640x640 1 gun, 315.3ms\n",
      "image 9/91 /Users/mac/Documents/Projects/YoloV8/Gun-Detection-1/test/images/122_jpeg.rf.3a9c931eec44d8f3009dea20089b4e1f.jpg: 640x640 4 guns, 320.9ms\n",
      "image 10/91 /Users/mac/Documents/Projects/YoloV8/Gun-Detection-1/test/images/123_jpeg.rf.e6aaab3b3b6dbb522a7ecde43edfcb3a.jpg: 640x640 1 gun, 328.8ms\n",
      "image 11/91 /Users/mac/Documents/Projects/YoloV8/Gun-Detection-1/test/images/125_jpeg.rf.aab067dd4ed180da145ac7c0fcdf85c2.jpg: 640x640 4 guns, 316.2ms\n",
      "image 12/91 /Users/mac/Documents/Projects/YoloV8/Gun-Detection-1/test/images/126_jpeg.rf.7c6bda52dd13df1b71fc8832d5c061bd.jpg: 640x640 6 guns, 319.3ms\n",
      "image 13/91 /Users/mac/Documents/Projects/YoloV8/Gun-Detection-1/test/images/127_jpeg.rf.4dfefe97be45c613406c39c6caa6ce20.jpg: 640x640 3 guns, 304.6ms\n",
      "image 14/91 /Users/mac/Documents/Projects/YoloV8/Gun-Detection-1/test/images/128_jpeg.rf.46ab17fd794b3fecd97a4a6feb9d3632.jpg: 640x640 3 guns, 318.4ms\n",
      "image 15/91 /Users/mac/Documents/Projects/YoloV8/Gun-Detection-1/test/images/135_jpeg.rf.ba4fc52d89019a062103c12539297e30.jpg: 640x640 1 gun, 299.9ms\n",
      "image 16/91 /Users/mac/Documents/Projects/YoloV8/Gun-Detection-1/test/images/150_jpeg.rf.8768926a5e4fc4b0bc2c4f326f78cec2.jpg: 640x640 1 gun, 397.1ms\n",
      "image 17/91 /Users/mac/Documents/Projects/YoloV8/Gun-Detection-1/test/images/159_jpeg.rf.846d6983dfde096b7f306eb11d1a9a97.jpg: 640x640 1 gun, 323.0ms\n",
      "image 18/91 /Users/mac/Documents/Projects/YoloV8/Gun-Detection-1/test/images/160_jpeg.rf.4ae0a50ba9d11ebb1fb54e45df0e5adf.jpg: 640x640 1 gun, 320.7ms\n",
      "image 19/91 /Users/mac/Documents/Projects/YoloV8/Gun-Detection-1/test/images/161_jpeg.rf.6df3539b7c8a344008a63250f8e4ec9f.jpg: 640x640 4 guns, 305.9ms\n",
      "image 20/91 /Users/mac/Documents/Projects/YoloV8/Gun-Detection-1/test/images/164_jpeg.rf.f19fa529b8cb461b5f24ad25a2b1c834.jpg: 640x640 (no detections), 318.1ms\n",
      "image 21/91 /Users/mac/Documents/Projects/YoloV8/Gun-Detection-1/test/images/168_jpeg.rf.faa12d8fbc01acb55037f9d7ca233ed8.jpg: 640x640 2 guns, 301.8ms\n",
      "image 22/91 /Users/mac/Documents/Projects/YoloV8/Gun-Detection-1/test/images/179_jpeg.rf.2ed3f191cd6186b4ac230d1b8277d1a8.jpg: 640x640 1 gun, 331.2ms\n",
      "image 23/91 /Users/mac/Documents/Projects/YoloV8/Gun-Detection-1/test/images/17_jpeg.rf.0fdf4cfeca751bc490ee3faa4a192f99.jpg: 640x640 1 gun, 304.5ms\n",
      "image 24/91 /Users/mac/Documents/Projects/YoloV8/Gun-Detection-1/test/images/181_jpeg.rf.fb9e949701dae3723fbe753087d6f55a.jpg: 640x640 6 guns, 452.5ms\n",
      "image 25/91 /Users/mac/Documents/Projects/YoloV8/Gun-Detection-1/test/images/182_jpeg.rf.4ee8df3aac6ed21ff3d4a1d450a4708a.jpg: 640x640 (no detections), 452.2ms\n",
      "image 26/91 /Users/mac/Documents/Projects/YoloV8/Gun-Detection-1/test/images/185_jpeg.rf.5f099fd8914867ccdf492f711b0df488.jpg: 640x640 1 gun, 318.1ms\n",
      "image 27/91 /Users/mac/Documents/Projects/YoloV8/Gun-Detection-1/test/images/186_jpeg.rf.be46279290f6c52a7b2726285383e17e.jpg: 640x640 1 gun, 329.2ms\n",
      "image 28/91 /Users/mac/Documents/Projects/YoloV8/Gun-Detection-1/test/images/190_jpeg.rf.26c9972c20644967146e4bac73fc69a5.jpg: 640x640 7 guns, 356.9ms\n",
      "image 29/91 /Users/mac/Documents/Projects/YoloV8/Gun-Detection-1/test/images/192_jpeg.rf.43a2ef423597e1556593bbfded9ab1c3.jpg: 640x640 (no detections), 322.9ms\n",
      "image 30/91 /Users/mac/Documents/Projects/YoloV8/Gun-Detection-1/test/images/193_jpeg.rf.9e396f2d74be5c7e00f58c6fc0ee577b.jpg: 640x640 4 guns, 351.6ms\n",
      "image 31/91 /Users/mac/Documents/Projects/YoloV8/Gun-Detection-1/test/images/198_jpeg.rf.1ab7ab5cee6c15910559b8bccf94e83f.jpg: 640x640 1 gun, 305.5ms\n",
      "image 32/91 /Users/mac/Documents/Projects/YoloV8/Gun-Detection-1/test/images/201_jpeg.rf.0c8e2882a908c7cf55055deff489b556.jpg: 640x640 3 guns, 318.4ms\n",
      "image 33/91 /Users/mac/Documents/Projects/YoloV8/Gun-Detection-1/test/images/205_jpeg.rf.cd72859fe02dbbf719dfb088ac0d3871.jpg: 640x640 3 guns, 295.7ms\n",
      "image 34/91 /Users/mac/Documents/Projects/YoloV8/Gun-Detection-1/test/images/206_jpeg.rf.09fe249b9297ff9de24282f1d5a0d706.jpg: 640x640 1 gun, 401.2ms\n",
      "image 35/91 /Users/mac/Documents/Projects/YoloV8/Gun-Detection-1/test/images/208_jpeg.rf.28761d40076f5d56a530ae37f8ecdeb6.jpg: 640x640 1 gun, 322.4ms\n",
      "image 36/91 /Users/mac/Documents/Projects/YoloV8/Gun-Detection-1/test/images/210_jpeg.rf.cb3a85569501d654a017687e4ed35eda.jpg: 640x640 2 guns, 423.3ms\n",
      "image 37/91 /Users/mac/Documents/Projects/YoloV8/Gun-Detection-1/test/images/213_jpeg.rf.f4128af4c88efd7d2afbbcda449dd304.jpg: 640x640 7 guns, 322.3ms\n",
      "image 38/91 /Users/mac/Documents/Projects/YoloV8/Gun-Detection-1/test/images/214_jpeg.rf.54e58a62162cf4f3d2dd463c7039b61a.jpg: 640x640 4 guns, 315.7ms\n",
      "image 39/91 /Users/mac/Documents/Projects/YoloV8/Gun-Detection-1/test/images/215_jpeg.rf.03d1f9c5517f1424bc4d24decfae7687.jpg: 640x640 9 guns, 304.3ms\n",
      "image 40/91 /Users/mac/Documents/Projects/YoloV8/Gun-Detection-1/test/images/216_jpeg.rf.f2986aa7a7fcc2edc5bbbec1fe8f0f38.jpg: 640x640 7 guns, 310.7ms\n",
      "image 41/91 /Users/mac/Documents/Projects/YoloV8/Gun-Detection-1/test/images/217_jpeg.rf.46cd3ce6387210500f735dbdb3da5268.jpg: 640x640 2 guns, 291.0ms\n",
      "image 42/91 /Users/mac/Documents/Projects/YoloV8/Gun-Detection-1/test/images/21_jpeg.rf.a2fe91c1c15c7554fad38ec11fa0e34c.jpg: 640x640 2 guns, 327.1ms\n",
      "image 43/91 /Users/mac/Documents/Projects/YoloV8/Gun-Detection-1/test/images/221_jpeg.rf.ef76b687a4dc366808be9fb8f165857b.jpg: 640x640 (no detections), 294.9ms\n",
      "image 44/91 /Users/mac/Documents/Projects/YoloV8/Gun-Detection-1/test/images/222_jpeg.rf.ad7ee9a5929e13808624f36634a89932.jpg: 640x640 (no detections), 319.7ms\n",
      "image 45/91 /Users/mac/Documents/Projects/YoloV8/Gun-Detection-1/test/images/224_jpeg.rf.45ce4925493acf2d26736e1d9f7547a2.jpg: 640x640 3 guns, 304.8ms\n",
      "image 46/91 /Users/mac/Documents/Projects/YoloV8/Gun-Detection-1/test/images/227_jpeg.rf.350c1d4e7ef0a8fc0fa7a8b4f5fceedb.jpg: 640x640 1 gun, 313.9ms\n",
      "image 47/91 /Users/mac/Documents/Projects/YoloV8/Gun-Detection-1/test/images/230_jpeg.rf.952e3748aad7bf9ef77effd18efea5fd.jpg: 640x640 2 guns, 303.6ms\n",
      "image 48/91 /Users/mac/Documents/Projects/YoloV8/Gun-Detection-1/test/images/232_jpeg.rf.621e5bccaece54fdb5cb4321c1521a4b.jpg: 640x640 2 guns, 314.1ms\n",
      "image 49/91 /Users/mac/Documents/Projects/YoloV8/Gun-Detection-1/test/images/233_jpeg.rf.8ab68df057e53b063a8bb3bc0881d0cf.jpg: 640x640 (no detections), 309.9ms\n",
      "image 50/91 /Users/mac/Documents/Projects/YoloV8/Gun-Detection-1/test/images/240_jpeg.rf.f0634f6cd6184e68ad879980a91a54e1.jpg: 640x640 1 gun, 318.8ms\n",
      "image 51/91 /Users/mac/Documents/Projects/YoloV8/Gun-Detection-1/test/images/243_jpeg.rf.982777359434a34fa82d54083138f01e.jpg: 640x640 1 gun, 333.1ms\n",
      "image 52/91 /Users/mac/Documents/Projects/YoloV8/Gun-Detection-1/test/images/244_jpeg.rf.f52bb491b4bdf712a374b205a04c7c30.jpg: 640x640 2 guns, 335.1ms\n",
      "image 53/91 /Users/mac/Documents/Projects/YoloV8/Gun-Detection-1/test/images/246_jpeg.rf.31038714a35fd5a5d528529b9db5f271.jpg: 640x640 (no detections), 292.1ms\n",
      "image 54/91 /Users/mac/Documents/Projects/YoloV8/Gun-Detection-1/test/images/251_jpeg.rf.f4542734f31e6e72bf3bedc3a0ef5d16.jpg: 640x640 4 guns, 382.1ms\n",
      "image 55/91 /Users/mac/Documents/Projects/YoloV8/Gun-Detection-1/test/images/258_jpeg.rf.a5fac9919071de84f18cbfd310c72e9a.jpg: 640x640 2 guns, 306.2ms\n",
      "image 56/91 /Users/mac/Documents/Projects/YoloV8/Gun-Detection-1/test/images/259_jpeg.rf.ff6fca1eea3e21190a68d19757475a77.jpg: 640x640 8 guns, 308.3ms\n",
      "image 57/91 /Users/mac/Documents/Projects/YoloV8/Gun-Detection-1/test/images/265_jpeg.rf.c685e41c36541697bf76318b0ca4ee14.jpg: 640x640 3 guns, 290.3ms\n",
      "image 58/91 /Users/mac/Documents/Projects/YoloV8/Gun-Detection-1/test/images/268_jpeg.rf.521d6a4e36c350f303828119ed3b055b.jpg: 640x640 1 gun, 319.7ms\n",
      "image 59/91 /Users/mac/Documents/Projects/YoloV8/Gun-Detection-1/test/images/274_jpeg.rf.f272f3d929b56c4abe3e65065b8ae80e.jpg: 640x640 4 guns, 296.1ms\n",
      "image 60/91 /Users/mac/Documents/Projects/YoloV8/Gun-Detection-1/test/images/27_jpeg.rf.5155a658dc879e1001cbb3b86f027b41.jpg: 640x640 1 gun, 317.9ms\n",
      "image 61/91 /Users/mac/Documents/Projects/YoloV8/Gun-Detection-1/test/images/281_jpeg.rf.3e2b7ba4f1f2c45fa4bb53a5355cc723.jpg: 640x640 4 guns, 292.9ms\n",
      "image 62/91 /Users/mac/Documents/Projects/YoloV8/Gun-Detection-1/test/images/285_jpeg.rf.443d808eed7a334ea9e7d82bdd6c5df2.jpg: 640x640 8 guns, 349.7ms\n",
      "image 63/91 /Users/mac/Documents/Projects/YoloV8/Gun-Detection-1/test/images/289_jpeg.rf.42bc808276f001e4f856da57d2667d27.jpg: 640x640 (no detections), 407.4ms\n",
      "image 64/91 /Users/mac/Documents/Projects/YoloV8/Gun-Detection-1/test/images/28_jpeg.rf.71e816c34a09e72a84c9e4b05d29269f.jpg: 640x640 (no detections), 584.2ms\n",
      "image 65/91 /Users/mac/Documents/Projects/YoloV8/Gun-Detection-1/test/images/291_jpeg.rf.b87f335572faefd09590aac10dab59c4.jpg: 640x640 1 gun, 361.1ms\n",
      "image 66/91 /Users/mac/Documents/Projects/YoloV8/Gun-Detection-1/test/images/303_jpeg.rf.26b2bb447431a9a5736bcca9c1f85d98.jpg: 640x640 1 gun, 363.7ms\n",
      "image 67/91 /Users/mac/Documents/Projects/YoloV8/Gun-Detection-1/test/images/307_jpeg.rf.634198a0603b1efbb6c2a2178d740ec1.jpg: 640x640 2 guns, 332.8ms\n",
      "image 68/91 /Users/mac/Documents/Projects/YoloV8/Gun-Detection-1/test/images/309_jpeg.rf.5b05218f41da90eddab5bf339f4f7d06.jpg: 640x640 4 guns, 331.7ms\n",
      "image 69/91 /Users/mac/Documents/Projects/YoloV8/Gun-Detection-1/test/images/311_jpeg.rf.a59ffbf71ea34ff576aaf54397854780.jpg: 640x640 2 guns, 350.7ms\n",
      "image 70/91 /Users/mac/Documents/Projects/YoloV8/Gun-Detection-1/test/images/312_jpeg.rf.ae1902ef252d763663c344562d22c511.jpg: 640x640 2 guns, 414.6ms\n",
      "image 71/91 /Users/mac/Documents/Projects/YoloV8/Gun-Detection-1/test/images/314_jpeg.rf.e420a9fe940f5577fde594043ecab21f.jpg: 640x640 3 guns, 330.2ms\n",
      "image 72/91 /Users/mac/Documents/Projects/YoloV8/Gun-Detection-1/test/images/315_jpeg.rf.63af496022e4aece86b32e67456ed7ad.jpg: 640x640 2 guns, 317.6ms\n",
      "image 73/91 /Users/mac/Documents/Projects/YoloV8/Gun-Detection-1/test/images/331_jpeg.rf.827532628b041ec55350ef5970389242.jpg: 640x640 4 guns, 321.9ms\n",
      "image 74/91 /Users/mac/Documents/Projects/YoloV8/Gun-Detection-1/test/images/37_jpeg.rf.e8fa2fc97d7b097a369a2e4e3bbf3201.jpg: 640x640 1 gun, 316.3ms\n",
      "image 75/91 /Users/mac/Documents/Projects/YoloV8/Gun-Detection-1/test/images/3_jpeg.rf.c031bf222d9ab493edd5ffbe928a53aa.jpg: 640x640 2 guns, 398.5ms\n",
      "image 76/91 /Users/mac/Documents/Projects/YoloV8/Gun-Detection-1/test/images/40_jpeg.rf.c989be795bf30b064ec06fc54fdcca38.jpg: 640x640 (no detections), 343.4ms\n",
      "image 77/91 /Users/mac/Documents/Projects/YoloV8/Gun-Detection-1/test/images/46_jpeg.rf.582934d70ec9f1ecea8e6f8efc5afef5.jpg: 640x640 3 guns, 320.5ms\n",
      "image 78/91 /Users/mac/Documents/Projects/YoloV8/Gun-Detection-1/test/images/47_jpeg.rf.d69dbee3ad306f86260d444b10f0c727.jpg: 640x640 1 gun, 308.6ms\n",
      "image 79/91 /Users/mac/Documents/Projects/YoloV8/Gun-Detection-1/test/images/48_jpeg.rf.5acebeca59c58c153f321c7af8184e9a.jpg: 640x640 2 guns, 325.4ms\n",
      "image 80/91 /Users/mac/Documents/Projects/YoloV8/Gun-Detection-1/test/images/54_jpeg.rf.56c297ce87062047f10b7e348df5a81f.jpg: 640x640 8 guns, 346.5ms\n",
      "image 81/91 /Users/mac/Documents/Projects/YoloV8/Gun-Detection-1/test/images/55_jpeg.rf.31d545a7fe85907ef5e9008007ba6d86.jpg: 640x640 2 guns, 345.8ms\n",
      "image 82/91 /Users/mac/Documents/Projects/YoloV8/Gun-Detection-1/test/images/56_jpeg.rf.cb6884766afa9806cb0aa966fd747894.jpg: 640x640 (no detections), 337.1ms\n",
      "image 83/91 /Users/mac/Documents/Projects/YoloV8/Gun-Detection-1/test/images/67_jpeg.rf.484d6611ae42af38e7e076eae2511274.jpg: 640x640 2 guns, 316.8ms\n",
      "image 84/91 /Users/mac/Documents/Projects/YoloV8/Gun-Detection-1/test/images/6_jpeg.rf.63a09f1c8d216601ca554f49d8983ba6.jpg: 640x640 (no detections), 298.7ms\n",
      "image 85/91 /Users/mac/Documents/Projects/YoloV8/Gun-Detection-1/test/images/73_jpeg.rf.ce6366f7be61b94e21d868de70780818.jpg: 640x640 2 guns, 342.3ms\n",
      "image 86/91 /Users/mac/Documents/Projects/YoloV8/Gun-Detection-1/test/images/77_jpeg.rf.51999f88ebce18e41001912025773a9d.jpg: 640x640 1 gun, 297.3ms\n",
      "image 87/91 /Users/mac/Documents/Projects/YoloV8/Gun-Detection-1/test/images/78_jpeg.rf.5a5947f69820cfed72730791995a2bca.jpg: 640x640 1 gun, 316.1ms\n",
      "image 88/91 /Users/mac/Documents/Projects/YoloV8/Gun-Detection-1/test/images/7_jpeg.rf.46c80098b2f57950636ef33dac0bbd25.jpg: 640x640 (no detections), 295.0ms\n",
      "image 89/91 /Users/mac/Documents/Projects/YoloV8/Gun-Detection-1/test/images/81_jpeg.rf.75f0faea7f1a8a1892a9bc7535d32e20.jpg: 640x640 1 gun, 388.6ms\n",
      "image 90/91 /Users/mac/Documents/Projects/YoloV8/Gun-Detection-1/test/images/98_jpeg.rf.a65f934a9426fe1646333c9c7878dcc1.jpg: 640x640 (no detections), 310.5ms\n",
      "image 91/91 /Users/mac/Documents/Projects/YoloV8/Gun-Detection-1/test/images/9_jpeg.rf.5ef0e704ad292260ef7057a1a6538a1e.jpg: 640x640 (no detections), 308.9ms\n",
      "Speed: 5.5ms preprocess, 333.3ms inference, 14.5ms postprocess per image at shape (1, 3, 640, 640)\n",
      "Results saved to \u001b[1mruns/detect/predict\u001b[0m\n",
      "💡 Learn more at https://docs.ultralytics.com/modes/predict\n"
     ]
    }
   ],
   "source": [
    "!yolo task=detect \\\n",
    "mode=predict \\\n",
    "model=/Users/mac/Documents/Projects/YoloV8/runs/detect/train11/weights/best.pt \\\n",
    "conf=0.25 \\\n",
    "source={dataset.location}/test/images"
   ]
  }
 ],
 "metadata": {
  "kernelspec": {
   "display_name": "yolo",
   "language": "python",
   "name": "python3"
  },
  "language_info": {
   "codemirror_mode": {
    "name": "ipython",
    "version": 3
   },
   "file_extension": ".py",
   "mimetype": "text/x-python",
   "name": "python",
   "nbconvert_exporter": "python",
   "pygments_lexer": "ipython3",
   "version": "3.11.8"
  }
 },
 "nbformat": 4,
 "nbformat_minor": 2
}
